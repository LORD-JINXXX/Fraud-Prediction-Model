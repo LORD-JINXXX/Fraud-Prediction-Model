{
  "metadata": {
    "kernelspec": {
      "language": "python",
      "display_name": "Python 3",
      "name": "python3"
    },
    "language_info": {
      "name": "python",
      "version": "3.7.12",
      "mimetype": "text/x-python",
      "codemirror_mode": {
        "name": "ipython",
        "version": 3
      },
      "pygments_lexer": "ipython3",
      "nbconvert_exporter": "python",
      "file_extension": ".py"
    },
    "colab": {
      "provenance": []
    }
  },
  "nbformat_minor": 0,
  "nbformat": 4,
  "cells": [
    {
      "cell_type": "markdown",
      "source": [
        "# Importing Libraries"
      ],
      "metadata": {
        "id": "hKYLVUXOk0OI"
      }
    },
    {
      "cell_type": "code",
      "source": [
        "#Libraries\n",
        "import pandas as pd\n",
        "import numpy as np\n",
        "import seaborn as sns\n",
        "import matplotlib.pyplot as plt\n",
        "\n",
        "#warnings\n",
        "import warnings\n",
        "warnings.filterwarnings(\"ignore\")"
      ],
      "metadata": {
        "execution": {
          "iopub.status.busy": "2023-02-11T11:19:04.753142Z",
          "iopub.execute_input": "2023-02-11T11:19:04.753513Z",
          "iopub.status.idle": "2023-02-11T11:19:04.760350Z",
          "shell.execute_reply.started": "2023-02-11T11:19:04.753478Z",
          "shell.execute_reply": "2023-02-11T11:19:04.759339Z"
        },
        "trusted": true,
        "id": "W-L6ODdmk0OL"
      },
      "execution_count": null,
      "outputs": []
    },
    {
      "cell_type": "markdown",
      "source": [
        "# Loading the Data"
      ],
      "metadata": {
        "id": "-q7Wg6v6k0ON"
      }
    },
    {
      "cell_type": "code",
      "source": [
        "dataset = pd.read_csv(\"/kaggle/input/fraud-dataset/Fraud.csv\")"
      ],
      "metadata": {
        "execution": {
          "iopub.status.busy": "2023-02-11T11:19:04.762130Z",
          "iopub.execute_input": "2023-02-11T11:19:04.762583Z",
          "iopub.status.idle": "2023-02-11T11:19:12.654038Z",
          "shell.execute_reply.started": "2023-02-11T11:19:04.762547Z",
          "shell.execute_reply": "2023-02-11T11:19:12.652916Z"
        },
        "trusted": true,
        "id": "qBjAUFdSk0OO"
      },
      "execution_count": null,
      "outputs": []
    },
    {
      "cell_type": "code",
      "source": [
        "dataset"
      ],
      "metadata": {
        "execution": {
          "iopub.status.busy": "2023-02-11T11:19:12.655357Z",
          "iopub.execute_input": "2023-02-11T11:19:12.655684Z",
          "iopub.status.idle": "2023-02-11T11:19:12.678790Z",
          "shell.execute_reply.started": "2023-02-11T11:19:12.655647Z",
          "shell.execute_reply": "2023-02-11T11:19:12.677816Z"
        },
        "trusted": true,
        "id": "ql7H5MHOk0OP",
        "outputId": "b9e14b6d-297e-4686-a183-12c407f54ea9"
      },
      "execution_count": null,
      "outputs": [
        {
          "execution_count": 53,
          "output_type": "execute_result",
          "data": {
            "text/plain": "         step      type      amount     nameOrig  oldbalanceOrg  \\\n0           1   PAYMENT     9839.64  C1231006815      170136.00   \n1           1   PAYMENT     1864.28  C1666544295       21249.00   \n2           1  TRANSFER      181.00  C1305486145         181.00   \n3           1  CASH_OUT      181.00   C840083671         181.00   \n4           1   PAYMENT    11668.14  C2048537720       41554.00   \n...       ...       ...         ...          ...            ...   \n6362615   743  CASH_OUT   339682.13   C786484425      339682.13   \n6362616   743  TRANSFER  6311409.28  C1529008245     6311409.28   \n6362617   743  CASH_OUT  6311409.28  C1162922333     6311409.28   \n6362618   743  TRANSFER   850002.52  C1685995037      850002.52   \n6362619   743  CASH_OUT   850002.52  C1280323807      850002.52   \n\n         newbalanceOrig     nameDest  oldbalanceDest  newbalanceDest  isFraud  \\\n0             160296.36  M1979787155            0.00            0.00        0   \n1              19384.72  M2044282225            0.00            0.00        0   \n2                  0.00   C553264065            0.00            0.00        1   \n3                  0.00    C38997010        21182.00            0.00        1   \n4              29885.86  M1230701703            0.00            0.00        0   \n...                 ...          ...             ...             ...      ...   \n6362615            0.00   C776919290            0.00       339682.13        1   \n6362616            0.00  C1881841831            0.00            0.00        1   \n6362617            0.00  C1365125890        68488.84      6379898.11        1   \n6362618            0.00  C2080388513            0.00            0.00        1   \n6362619            0.00   C873221189      6510099.11      7360101.63        1   \n\n         isFlaggedFraud  \n0                     0  \n1                     0  \n2                     0  \n3                     0  \n4                     0  \n...                 ...  \n6362615               0  \n6362616               0  \n6362617               0  \n6362618               0  \n6362619               0  \n\n[6362620 rows x 11 columns]",
            "text/html": "<div>\n<style scoped>\n    .dataframe tbody tr th:only-of-type {\n        vertical-align: middle;\n    }\n\n    .dataframe tbody tr th {\n        vertical-align: top;\n    }\n\n    .dataframe thead th {\n        text-align: right;\n    }\n</style>\n<table border=\"1\" class=\"dataframe\">\n  <thead>\n    <tr style=\"text-align: right;\">\n      <th></th>\n      <th>step</th>\n      <th>type</th>\n      <th>amount</th>\n      <th>nameOrig</th>\n      <th>oldbalanceOrg</th>\n      <th>newbalanceOrig</th>\n      <th>nameDest</th>\n      <th>oldbalanceDest</th>\n      <th>newbalanceDest</th>\n      <th>isFraud</th>\n      <th>isFlaggedFraud</th>\n    </tr>\n  </thead>\n  <tbody>\n    <tr>\n      <th>0</th>\n      <td>1</td>\n      <td>PAYMENT</td>\n      <td>9839.64</td>\n      <td>C1231006815</td>\n      <td>170136.00</td>\n      <td>160296.36</td>\n      <td>M1979787155</td>\n      <td>0.00</td>\n      <td>0.00</td>\n      <td>0</td>\n      <td>0</td>\n    </tr>\n    <tr>\n      <th>1</th>\n      <td>1</td>\n      <td>PAYMENT</td>\n      <td>1864.28</td>\n      <td>C1666544295</td>\n      <td>21249.00</td>\n      <td>19384.72</td>\n      <td>M2044282225</td>\n      <td>0.00</td>\n      <td>0.00</td>\n      <td>0</td>\n      <td>0</td>\n    </tr>\n    <tr>\n      <th>2</th>\n      <td>1</td>\n      <td>TRANSFER</td>\n      <td>181.00</td>\n      <td>C1305486145</td>\n      <td>181.00</td>\n      <td>0.00</td>\n      <td>C553264065</td>\n      <td>0.00</td>\n      <td>0.00</td>\n      <td>1</td>\n      <td>0</td>\n    </tr>\n    <tr>\n      <th>3</th>\n      <td>1</td>\n      <td>CASH_OUT</td>\n      <td>181.00</td>\n      <td>C840083671</td>\n      <td>181.00</td>\n      <td>0.00</td>\n      <td>C38997010</td>\n      <td>21182.00</td>\n      <td>0.00</td>\n      <td>1</td>\n      <td>0</td>\n    </tr>\n    <tr>\n      <th>4</th>\n      <td>1</td>\n      <td>PAYMENT</td>\n      <td>11668.14</td>\n      <td>C2048537720</td>\n      <td>41554.00</td>\n      <td>29885.86</td>\n      <td>M1230701703</td>\n      <td>0.00</td>\n      <td>0.00</td>\n      <td>0</td>\n      <td>0</td>\n    </tr>\n    <tr>\n      <th>...</th>\n      <td>...</td>\n      <td>...</td>\n      <td>...</td>\n      <td>...</td>\n      <td>...</td>\n      <td>...</td>\n      <td>...</td>\n      <td>...</td>\n      <td>...</td>\n      <td>...</td>\n      <td>...</td>\n    </tr>\n    <tr>\n      <th>6362615</th>\n      <td>743</td>\n      <td>CASH_OUT</td>\n      <td>339682.13</td>\n      <td>C786484425</td>\n      <td>339682.13</td>\n      <td>0.00</td>\n      <td>C776919290</td>\n      <td>0.00</td>\n      <td>339682.13</td>\n      <td>1</td>\n      <td>0</td>\n    </tr>\n    <tr>\n      <th>6362616</th>\n      <td>743</td>\n      <td>TRANSFER</td>\n      <td>6311409.28</td>\n      <td>C1529008245</td>\n      <td>6311409.28</td>\n      <td>0.00</td>\n      <td>C1881841831</td>\n      <td>0.00</td>\n      <td>0.00</td>\n      <td>1</td>\n      <td>0</td>\n    </tr>\n    <tr>\n      <th>6362617</th>\n      <td>743</td>\n      <td>CASH_OUT</td>\n      <td>6311409.28</td>\n      <td>C1162922333</td>\n      <td>6311409.28</td>\n      <td>0.00</td>\n      <td>C1365125890</td>\n      <td>68488.84</td>\n      <td>6379898.11</td>\n      <td>1</td>\n      <td>0</td>\n    </tr>\n    <tr>\n      <th>6362618</th>\n      <td>743</td>\n      <td>TRANSFER</td>\n      <td>850002.52</td>\n      <td>C1685995037</td>\n      <td>850002.52</td>\n      <td>0.00</td>\n      <td>C2080388513</td>\n      <td>0.00</td>\n      <td>0.00</td>\n      <td>1</td>\n      <td>0</td>\n    </tr>\n    <tr>\n      <th>6362619</th>\n      <td>743</td>\n      <td>CASH_OUT</td>\n      <td>850002.52</td>\n      <td>C1280323807</td>\n      <td>850002.52</td>\n      <td>0.00</td>\n      <td>C873221189</td>\n      <td>6510099.11</td>\n      <td>7360101.63</td>\n      <td>1</td>\n      <td>0</td>\n    </tr>\n  </tbody>\n</table>\n<p>6362620 rows × 11 columns</p>\n</div>"
          },
          "metadata": {}
        }
      ]
    },
    {
      "cell_type": "code",
      "source": [
        "# Checking the data types\n",
        "\n",
        "dataset.dtypes"
      ],
      "metadata": {
        "execution": {
          "iopub.status.busy": "2023-02-11T11:19:12.681164Z",
          "iopub.execute_input": "2023-02-11T11:19:12.681474Z",
          "iopub.status.idle": "2023-02-11T11:19:12.690649Z",
          "shell.execute_reply.started": "2023-02-11T11:19:12.681449Z",
          "shell.execute_reply": "2023-02-11T11:19:12.689735Z"
        },
        "trusted": true,
        "id": "qbNu_Tgnk0OR",
        "outputId": "b1a2e84d-7d2e-49c7-cff6-cf643bd376e9"
      },
      "execution_count": null,
      "outputs": [
        {
          "execution_count": 54,
          "output_type": "execute_result",
          "data": {
            "text/plain": "step                int64\ntype               object\namount            float64\nnameOrig           object\noldbalanceOrg     float64\nnewbalanceOrig    float64\nnameDest           object\noldbalanceDest    float64\nnewbalanceDest    float64\nisFraud             int64\nisFlaggedFraud      int64\ndtype: object"
          },
          "metadata": {}
        }
      ]
    },
    {
      "cell_type": "code",
      "source": [
        "dataset.info()"
      ],
      "metadata": {
        "execution": {
          "iopub.status.busy": "2023-02-11T11:19:12.691839Z",
          "iopub.execute_input": "2023-02-11T11:19:12.692154Z",
          "iopub.status.idle": "2023-02-11T11:19:12.703652Z",
          "shell.execute_reply.started": "2023-02-11T11:19:12.692129Z",
          "shell.execute_reply": "2023-02-11T11:19:12.702754Z"
        },
        "trusted": true,
        "id": "xDTfGVwjk0OS",
        "outputId": "37e3ca4f-9a78-41a1-9b2c-ee0d96c2ce7b"
      },
      "execution_count": null,
      "outputs": [
        {
          "name": "stdout",
          "text": "<class 'pandas.core.frame.DataFrame'>\nRangeIndex: 6362620 entries, 0 to 6362619\nData columns (total 11 columns):\n #   Column          Dtype  \n---  ------          -----  \n 0   step            int64  \n 1   type            object \n 2   amount          float64\n 3   nameOrig        object \n 4   oldbalanceOrg   float64\n 5   newbalanceOrig  float64\n 6   nameDest        object \n 7   oldbalanceDest  float64\n 8   newbalanceDest  float64\n 9   isFraud         int64  \n 10  isFlaggedFraud  int64  \ndtypes: float64(5), int64(3), object(3)\nmemory usage: 534.0+ MB\n",
          "output_type": "stream"
        }
      ]
    },
    {
      "cell_type": "code",
      "source": [
        "# Missing Data Percentage \n",
        "\n",
        "round(dataset.isnull().sum()/dataset.shape[0], 2)"
      ],
      "metadata": {
        "execution": {
          "iopub.status.busy": "2023-02-11T11:19:12.704957Z",
          "iopub.execute_input": "2023-02-11T11:19:12.705495Z",
          "iopub.status.idle": "2023-02-11T11:19:13.416173Z",
          "shell.execute_reply.started": "2023-02-11T11:19:12.705461Z",
          "shell.execute_reply": "2023-02-11T11:19:13.414975Z"
        },
        "trusted": true,
        "id": "sp3YrERXk0OT",
        "outputId": "012609d2-7748-46a1-d374-49f626c31bb1"
      },
      "execution_count": null,
      "outputs": [
        {
          "execution_count": 56,
          "output_type": "execute_result",
          "data": {
            "text/plain": "step              0.0\ntype              0.0\namount            0.0\nnameOrig          0.0\noldbalanceOrg     0.0\nnewbalanceOrig    0.0\nnameDest          0.0\noldbalanceDest    0.0\nnewbalanceDest    0.0\nisFraud           0.0\nisFlaggedFraud    0.0\ndtype: float64"
          },
          "metadata": {}
        }
      ]
    },
    {
      "cell_type": "code",
      "source": [
        "dataset['type'].unique()"
      ],
      "metadata": {
        "execution": {
          "iopub.status.busy": "2023-02-11T11:19:13.417746Z",
          "iopub.execute_input": "2023-02-11T11:19:13.418077Z",
          "iopub.status.idle": "2023-02-11T11:19:13.810322Z",
          "shell.execute_reply.started": "2023-02-11T11:19:13.418052Z",
          "shell.execute_reply": "2023-02-11T11:19:13.809250Z"
        },
        "trusted": true,
        "id": "phS6y0J_k0OU",
        "outputId": "a19f750b-7d61-41a7-bfb9-34a352c3c0a7"
      },
      "execution_count": null,
      "outputs": [
        {
          "execution_count": 57,
          "output_type": "execute_result",
          "data": {
            "text/plain": "array(['PAYMENT', 'TRANSFER', 'CASH_OUT', 'DEBIT', 'CASH_IN'],\n      dtype=object)"
          },
          "metadata": {}
        }
      ]
    },
    {
      "cell_type": "markdown",
      "source": [
        "#As we can see that type colum consists of object type data, lets convert that into int type."
      ],
      "metadata": {
        "id": "0c5FuwJpk0OV"
      }
    },
    {
      "cell_type": "code",
      "source": [
        "type_map = {'PAYMENT':1, 'TRANSFER':2, 'CASH_OUT':3, 'DEBIT':4, 'CASH_IN':5}\n",
        "\n",
        "dataset.loc[:,'payment type'] = dataset['type'].apply(lambda x: type_map[x])\n",
        "dataset = dataset.drop('type',axis=1)\n",
        "dataset"
      ],
      "metadata": {
        "execution": {
          "iopub.status.busy": "2023-02-11T11:19:13.812144Z",
          "iopub.execute_input": "2023-02-11T11:19:13.812554Z",
          "iopub.status.idle": "2023-02-11T11:19:16.022465Z",
          "shell.execute_reply.started": "2023-02-11T11:19:13.812516Z",
          "shell.execute_reply": "2023-02-11T11:19:16.021511Z"
        },
        "trusted": true,
        "id": "EtL1BXsMk0OW",
        "outputId": "f2df1f50-7b30-4c9c-e390-70054b7fa748"
      },
      "execution_count": null,
      "outputs": [
        {
          "execution_count": 58,
          "output_type": "execute_result",
          "data": {
            "text/plain": "         step      amount     nameOrig  oldbalanceOrg  newbalanceOrig  \\\n0           1     9839.64  C1231006815      170136.00       160296.36   \n1           1     1864.28  C1666544295       21249.00        19384.72   \n2           1      181.00  C1305486145         181.00            0.00   \n3           1      181.00   C840083671         181.00            0.00   \n4           1    11668.14  C2048537720       41554.00        29885.86   \n...       ...         ...          ...            ...             ...   \n6362615   743   339682.13   C786484425      339682.13            0.00   \n6362616   743  6311409.28  C1529008245     6311409.28            0.00   \n6362617   743  6311409.28  C1162922333     6311409.28            0.00   \n6362618   743   850002.52  C1685995037      850002.52            0.00   \n6362619   743   850002.52  C1280323807      850002.52            0.00   \n\n            nameDest  oldbalanceDest  newbalanceDest  isFraud  isFlaggedFraud  \\\n0        M1979787155            0.00            0.00        0               0   \n1        M2044282225            0.00            0.00        0               0   \n2         C553264065            0.00            0.00        1               0   \n3          C38997010        21182.00            0.00        1               0   \n4        M1230701703            0.00            0.00        0               0   \n...              ...             ...             ...      ...             ...   \n6362615   C776919290            0.00       339682.13        1               0   \n6362616  C1881841831            0.00            0.00        1               0   \n6362617  C1365125890        68488.84      6379898.11        1               0   \n6362618  C2080388513            0.00            0.00        1               0   \n6362619   C873221189      6510099.11      7360101.63        1               0   \n\n         payment type  \n0                   1  \n1                   1  \n2                   2  \n3                   3  \n4                   1  \n...               ...  \n6362615             3  \n6362616             2  \n6362617             3  \n6362618             2  \n6362619             3  \n\n[6362620 rows x 11 columns]",
            "text/html": "<div>\n<style scoped>\n    .dataframe tbody tr th:only-of-type {\n        vertical-align: middle;\n    }\n\n    .dataframe tbody tr th {\n        vertical-align: top;\n    }\n\n    .dataframe thead th {\n        text-align: right;\n    }\n</style>\n<table border=\"1\" class=\"dataframe\">\n  <thead>\n    <tr style=\"text-align: right;\">\n      <th></th>\n      <th>step</th>\n      <th>amount</th>\n      <th>nameOrig</th>\n      <th>oldbalanceOrg</th>\n      <th>newbalanceOrig</th>\n      <th>nameDest</th>\n      <th>oldbalanceDest</th>\n      <th>newbalanceDest</th>\n      <th>isFraud</th>\n      <th>isFlaggedFraud</th>\n      <th>payment type</th>\n    </tr>\n  </thead>\n  <tbody>\n    <tr>\n      <th>0</th>\n      <td>1</td>\n      <td>9839.64</td>\n      <td>C1231006815</td>\n      <td>170136.00</td>\n      <td>160296.36</td>\n      <td>M1979787155</td>\n      <td>0.00</td>\n      <td>0.00</td>\n      <td>0</td>\n      <td>0</td>\n      <td>1</td>\n    </tr>\n    <tr>\n      <th>1</th>\n      <td>1</td>\n      <td>1864.28</td>\n      <td>C1666544295</td>\n      <td>21249.00</td>\n      <td>19384.72</td>\n      <td>M2044282225</td>\n      <td>0.00</td>\n      <td>0.00</td>\n      <td>0</td>\n      <td>0</td>\n      <td>1</td>\n    </tr>\n    <tr>\n      <th>2</th>\n      <td>1</td>\n      <td>181.00</td>\n      <td>C1305486145</td>\n      <td>181.00</td>\n      <td>0.00</td>\n      <td>C553264065</td>\n      <td>0.00</td>\n      <td>0.00</td>\n      <td>1</td>\n      <td>0</td>\n      <td>2</td>\n    </tr>\n    <tr>\n      <th>3</th>\n      <td>1</td>\n      <td>181.00</td>\n      <td>C840083671</td>\n      <td>181.00</td>\n      <td>0.00</td>\n      <td>C38997010</td>\n      <td>21182.00</td>\n      <td>0.00</td>\n      <td>1</td>\n      <td>0</td>\n      <td>3</td>\n    </tr>\n    <tr>\n      <th>4</th>\n      <td>1</td>\n      <td>11668.14</td>\n      <td>C2048537720</td>\n      <td>41554.00</td>\n      <td>29885.86</td>\n      <td>M1230701703</td>\n      <td>0.00</td>\n      <td>0.00</td>\n      <td>0</td>\n      <td>0</td>\n      <td>1</td>\n    </tr>\n    <tr>\n      <th>...</th>\n      <td>...</td>\n      <td>...</td>\n      <td>...</td>\n      <td>...</td>\n      <td>...</td>\n      <td>...</td>\n      <td>...</td>\n      <td>...</td>\n      <td>...</td>\n      <td>...</td>\n      <td>...</td>\n    </tr>\n    <tr>\n      <th>6362615</th>\n      <td>743</td>\n      <td>339682.13</td>\n      <td>C786484425</td>\n      <td>339682.13</td>\n      <td>0.00</td>\n      <td>C776919290</td>\n      <td>0.00</td>\n      <td>339682.13</td>\n      <td>1</td>\n      <td>0</td>\n      <td>3</td>\n    </tr>\n    <tr>\n      <th>6362616</th>\n      <td>743</td>\n      <td>6311409.28</td>\n      <td>C1529008245</td>\n      <td>6311409.28</td>\n      <td>0.00</td>\n      <td>C1881841831</td>\n      <td>0.00</td>\n      <td>0.00</td>\n      <td>1</td>\n      <td>0</td>\n      <td>2</td>\n    </tr>\n    <tr>\n      <th>6362617</th>\n      <td>743</td>\n      <td>6311409.28</td>\n      <td>C1162922333</td>\n      <td>6311409.28</td>\n      <td>0.00</td>\n      <td>C1365125890</td>\n      <td>68488.84</td>\n      <td>6379898.11</td>\n      <td>1</td>\n      <td>0</td>\n      <td>3</td>\n    </tr>\n    <tr>\n      <th>6362618</th>\n      <td>743</td>\n      <td>850002.52</td>\n      <td>C1685995037</td>\n      <td>850002.52</td>\n      <td>0.00</td>\n      <td>C2080388513</td>\n      <td>0.00</td>\n      <td>0.00</td>\n      <td>1</td>\n      <td>0</td>\n      <td>2</td>\n    </tr>\n    <tr>\n      <th>6362619</th>\n      <td>743</td>\n      <td>850002.52</td>\n      <td>C1280323807</td>\n      <td>850002.52</td>\n      <td>0.00</td>\n      <td>C873221189</td>\n      <td>6510099.11</td>\n      <td>7360101.63</td>\n      <td>1</td>\n      <td>0</td>\n      <td>3</td>\n    </tr>\n  </tbody>\n</table>\n<p>6362620 rows × 11 columns</p>\n</div>"
          },
          "metadata": {}
        }
      ]
    },
    {
      "cell_type": "markdown",
      "source": [
        "# Feature analysis"
      ],
      "metadata": {
        "id": "_JSXxxtHk0OW"
      }
    },
    {
      "cell_type": "code",
      "source": [
        "numerical = ['step', 'amount','oldbalanceOrg', 'newbalanceOrig','oldbalanceDest', 'newbalanceDest','payment type']\n",
        "\n",
        "# Checking the best numerical features for statistical description.\n",
        "\n",
        "p=[]\n",
        "from scipy.stats import ttest_ind\n",
        "\n",
        "for i in numerical:\n",
        "    df1=dataset.groupby('isFraud').get_group(0)\n",
        "    df2=dataset.groupby('isFraud').get_group(1)\n",
        "    t,pvalue=ttest_ind(df1[i],df2[i])\n",
        "    p.append(1-pvalue)\n",
        "plt.figure(figsize=(7,7))\n",
        "sns.barplot(x=p, y=numerical)\n",
        "plt.title('Best Numerical Features')\n",
        "plt.axvline(x=(1-0.05),color='r')\n",
        "plt.xlabel('1-p value')\n",
        "plt.show()"
      ],
      "metadata": {
        "execution": {
          "iopub.status.busy": "2023-02-11T11:19:16.023523Z",
          "iopub.execute_input": "2023-02-11T11:19:16.023819Z",
          "iopub.status.idle": "2023-02-11T11:19:23.357792Z",
          "shell.execute_reply.started": "2023-02-11T11:19:16.023794Z",
          "shell.execute_reply": "2023-02-11T11:19:23.357049Z"
        },
        "trusted": true,
        "id": "6vqcUmmpk0OX",
        "outputId": "92ccc75c-38cd-4b43-c285-7b946a983ad4"
      },
      "execution_count": null,
      "outputs": [
        {
          "output_type": "display_data",
          "data": {
            "text/plain": "<Figure size 504x504 with 1 Axes>",
            "image/png": "[encoded data removed]"
          },
          "metadata": {
            "needs_background": "light"
          }
        }
      ]
    },
    {
      "cell_type": "markdown",
      "source": [
        "For visual purpose, I redid the graph to show acceptance of 'Alternative Hypothesis' for T Test. So, the ones crossing the red lines show statistical significance."
      ],
      "metadata": {
        "id": "MOA8rPNFk0OY"
      }
    },
    {
      "cell_type": "code",
      "source": [
        "# Checking the std for both non defaulter and defaulter.\n",
        "\n",
        "for i in numerical:\n",
        "    df1=dataset.groupby('isFraud').get_group(0)\n",
        "    df2=dataset.groupby('isFraud').get_group(1)\n",
        "    print(np.std(df1[i],ddof=1),np.std(df2[i],ddof=1))"
      ],
      "metadata": {
        "execution": {
          "iopub.status.busy": "2023-02-11T11:19:23.358845Z",
          "iopub.execute_input": "2023-02-11T11:19:23.359872Z",
          "iopub.status.idle": "2023-02-11T11:19:30.538765Z",
          "shell.execute_reply.started": "2023-02-11T11:19:23.359843Z",
          "shell.execute_reply": "2023-02-11T11:19:30.537833Z"
        },
        "trusted": true,
        "id": "hSePp4mNk0OY",
        "outputId": "41b52882-4a40-4daf-b8de-45468aeb5ed0"
      },
      "execution_count": null,
      "outputs": [
        {
          "name": "stdout",
          "text": "142.14019449219748 216.38869034044959\n596236.9813471774 2404252.947240169\n2887144.030332925 3547719.4391091294\n2924986.964649587 1965666.4557191336\n3399201.793378541 3336420.9509249544\n3673815.7099226634 3908816.5338157555\n1.4921957048818997 0.5000291042824477\n",
          "output_type": "stream"
        }
      ]
    },
    {
      "cell_type": "markdown",
      "source": [
        "The above observations are Standard Deviations of Columns (i.e., Defaulters vs Non-defaulters). T Test for independence runs on the assumption that samples under observations should have equal Standard Deviations. Although the difference observed above seems less, it still doesn't seem acceptable. Hence, we'll go with a non-parametric test."
      ],
      "metadata": {
        "id": "nvPbqgEqk0OZ"
      }
    },
    {
      "cell_type": "markdown",
      "source": [
        "We'll use SelectKBest library to narrow down choices of features. This will make use of Annova test."
      ],
      "metadata": {
        "id": "WrCUf42Yk0Oa"
      }
    },
    {
      "cell_type": "code",
      "source": [
        "from sklearn.feature_selection import SelectKBest,f_classif\n",
        "n = SelectKBest(score_func=f_classif, k='all')\n",
        "numcols=n.fit(dataset[numerical],dataset['isFraud'])\n",
        "plt.figure(figsize=(7,7))\n",
        "sns.barplot(x=numcols.scores_,y=numerical)\n",
        "plt.title('Best Numerical Features')\n",
        "plt.show()"
      ],
      "metadata": {
        "execution": {
          "iopub.status.busy": "2023-02-11T11:19:30.539886Z",
          "iopub.execute_input": "2023-02-11T11:19:30.540204Z",
          "iopub.status.idle": "2023-02-11T11:19:31.568687Z",
          "shell.execute_reply.started": "2023-02-11T11:19:30.540175Z",
          "shell.execute_reply": "2023-02-11T11:19:31.568015Z"
        },
        "trusted": true,
        "id": "teyuY-xqk0Oa",
        "outputId": "4c645b67-02db-4031-dd7b-d0da9b1e1452"
      },
      "execution_count": null,
      "outputs": [
        {
          "output_type": "display_data",
          "data": {
            "text/plain": "<Figure size 504x504 with 1 Axes>",
            "image/png": "[encoded data removed]"
          },
          "metadata": {
            "needs_background": "light"
          }
        }
      ]
    },
    {
      "cell_type": "markdown",
      "source": [
        "The graph shows that amount has highest significance and step has seconnd highest significance whereas payment type, newbalancedest and oldbalancedest are insignificant."
      ],
      "metadata": {
        "id": "Zk1pjLvhk0Ob"
      }
    },
    {
      "cell_type": "markdown",
      "source": [
        "# Creating the dataframe to plot graphs to check outliers"
      ],
      "metadata": {
        "id": "YTJ0qGduk0Oc"
      }
    },
    {
      "cell_type": "code",
      "source": [
        "df = dataset[['step', 'amount','oldbalanceOrg', 'newbalanceOrig','oldbalanceDest', 'newbalanceDest','payment type']]"
      ],
      "metadata": {
        "execution": {
          "iopub.status.busy": "2023-02-11T11:19:31.571550Z",
          "iopub.execute_input": "2023-02-11T11:19:31.572097Z",
          "iopub.status.idle": "2023-02-11T11:19:31.636557Z",
          "shell.execute_reply.started": "2023-02-11T11:19:31.572069Z",
          "shell.execute_reply": "2023-02-11T11:19:31.635614Z"
        },
        "trusted": true,
        "id": "USFuEtb-k0Od"
      },
      "execution_count": null,
      "outputs": []
    },
    {
      "cell_type": "code",
      "source": [
        "# Plotting the Graph\n",
        "\n",
        "plt.figure(figsize=(20,20))\n",
        "x = 1\n",
        "for column in df.columns:\n",
        "    if x<=11:\n",
        "        plt.subplot(5,3,x)\n",
        "        sns.boxplot(df[column])\n",
        "    x+=1\n",
        "plt.show()"
      ],
      "metadata": {
        "execution": {
          "iopub.status.busy": "2023-02-11T11:19:31.637772Z",
          "iopub.execute_input": "2023-02-11T11:19:31.638053Z",
          "iopub.status.idle": "2023-02-11T11:19:38.214296Z",
          "shell.execute_reply.started": "2023-02-11T11:19:31.638029Z",
          "shell.execute_reply": "2023-02-11T11:19:38.213177Z"
        },
        "trusted": true,
        "id": "ArRIL42gk0Od",
        "outputId": "2997659f-164f-47f8-ab1c-362b1383fbe3"
      },
      "execution_count": null,
      "outputs": [
        {
          "output_type": "display_data",
          "data": {
            "text/plain": "<Figure size 1440x1440 with 7 Axes>",
            "image/png": "[encoded data removed]"
          },
          "metadata": {
            "needs_background": "light"
          }
        }
      ]
    },
    {
      "cell_type": "code",
      "source": [
        "dataset = dataset[dataset['amount']<70000000]\n",
        "dataset = dataset[dataset['oldbalanceOrg']<50000000]\n",
        "dataset = dataset[dataset['newbalanceOrig']<45000000]\n",
        "dataset = dataset[dataset['oldbalanceDest']<340000000]\n",
        "dataset = dataset[dataset['newbalanceDest']<350000000]"
      ],
      "metadata": {
        "execution": {
          "iopub.status.busy": "2023-02-11T11:21:30.512020Z",
          "iopub.execute_input": "2023-02-11T11:21:30.512371Z",
          "iopub.status.idle": "2023-02-11T11:21:32.982681Z",
          "shell.execute_reply.started": "2023-02-11T11:21:30.512343Z",
          "shell.execute_reply": "2023-02-11T11:21:32.981957Z"
        },
        "trusted": true,
        "id": "1lJHEqe9k0Od"
      },
      "execution_count": null,
      "outputs": []
    },
    {
      "cell_type": "code",
      "source": [
        "#Box plot for amount\n",
        "sns.boxplot(dataset['amount'])\n",
        "plt.show()"
      ],
      "metadata": {
        "execution": {
          "iopub.status.busy": "2023-02-11T11:21:41.306516Z",
          "iopub.execute_input": "2023-02-11T11:21:41.306888Z",
          "iopub.status.idle": "2023-02-11T11:21:42.005546Z",
          "shell.execute_reply.started": "2023-02-11T11:21:41.306856Z",
          "shell.execute_reply": "2023-02-11T11:21:42.004700Z"
        },
        "trusted": true,
        "id": "Jj7rSmLAk0Oe",
        "outputId": "5def94cc-e345-4542-e4e5-f071da87901f"
      },
      "execution_count": null,
      "outputs": [
        {
          "output_type": "display_data",
          "data": {
            "text/plain": "<Figure size 432x288 with 1 Axes>",
            "image/png": "[encoded data removed]"
          },
          "metadata": {
            "needs_background": "light"
          }
        }
      ]
    },
    {
      "cell_type": "code",
      "source": [
        "#Box plot for oldbalanceOrg\n",
        "sns.boxplot(dataset['oldbalanceOrg'])\n",
        "plt.show()"
      ],
      "metadata": {
        "execution": {
          "iopub.status.busy": "2023-02-11T11:21:51.701559Z",
          "iopub.execute_input": "2023-02-11T11:21:51.701961Z",
          "iopub.status.idle": "2023-02-11T11:21:53.560991Z",
          "shell.execute_reply.started": "2023-02-11T11:21:51.701926Z",
          "shell.execute_reply": "2023-02-11T11:21:53.560141Z"
        },
        "trusted": true,
        "id": "AUNQxzTZk0Oe",
        "outputId": "3a2bec3b-5a98-4f04-f6c4-70899efab7e8"
      },
      "execution_count": null,
      "outputs": [
        {
          "output_type": "display_data",
          "data": {
            "text/plain": "<Figure size 432x288 with 1 Axes>",
            "image/png": "[encoded data removed]"
          },
          "metadata": {
            "needs_background": "light"
          }
        }
      ]
    },
    {
      "cell_type": "code",
      "source": [
        "# Removing more outliers\n",
        "dataset = dataset[dataset['oldbalanceOrg']<45000000]"
      ],
      "metadata": {
        "execution": {
          "iopub.status.busy": "2023-02-11T11:22:47.787122Z",
          "iopub.execute_input": "2023-02-11T11:22:47.787460Z",
          "iopub.status.idle": "2023-02-11T11:22:48.258454Z",
          "shell.execute_reply.started": "2023-02-11T11:22:47.787434Z",
          "shell.execute_reply": "2023-02-11T11:22:48.257434Z"
        },
        "trusted": true,
        "id": "b2V5gHKDk0Of"
      },
      "execution_count": null,
      "outputs": []
    },
    {
      "cell_type": "code",
      "source": [
        "#Box plot for oldbalanceOrg\n",
        "sns.boxplot(dataset['oldbalanceOrg'])\n",
        "plt.show()"
      ],
      "metadata": {
        "execution": {
          "iopub.status.busy": "2023-02-11T11:23:01.286661Z",
          "iopub.execute_input": "2023-02-11T11:23:01.287027Z",
          "iopub.status.idle": "2023-02-11T11:23:02.847017Z",
          "shell.execute_reply.started": "2023-02-11T11:23:01.287000Z",
          "shell.execute_reply": "2023-02-11T11:23:02.846068Z"
        },
        "trusted": true,
        "id": "eIdiFy2lk0Of",
        "outputId": "500afc68-d922-43f0-f6d3-4f2662744d83"
      },
      "execution_count": null,
      "outputs": [
        {
          "output_type": "display_data",
          "data": {
            "text/plain": "<Figure size 432x288 with 1 Axes>",
            "image/png": "[encoded data removed]"
          },
          "metadata": {
            "needs_background": "light"
          }
        }
      ]
    },
    {
      "cell_type": "code",
      "source": [
        "#Box plot for newbalanceOrig\n",
        "sns.boxplot(dataset['newbalanceOrig'])\n",
        "plt.show()"
      ],
      "metadata": {
        "execution": {
          "iopub.status.busy": "2023-02-11T11:23:13.377338Z",
          "iopub.execute_input": "2023-02-11T11:23:13.377672Z",
          "iopub.status.idle": "2023-02-11T11:23:14.841532Z",
          "shell.execute_reply.started": "2023-02-11T11:23:13.377647Z",
          "shell.execute_reply": "2023-02-11T11:23:14.840058Z"
        },
        "trusted": true,
        "id": "SFZLM_DTk0Og",
        "outputId": "bb85a06f-0f7b-4404-9aa7-0ebc3487be97"
      },
      "execution_count": null,
      "outputs": [
        {
          "output_type": "display_data",
          "data": {
            "text/plain": "<Figure size 432x288 with 1 Axes>",
            "image/png": "[encoded data removed]"
          },
          "metadata": {
            "needs_background": "light"
          }
        }
      ]
    },
    {
      "cell_type": "code",
      "source": [
        "# Removing more outliers\n",
        "dataset = dataset[dataset['newbalanceOrig']<40000000]"
      ],
      "metadata": {
        "execution": {
          "iopub.status.busy": "2023-02-11T11:23:46.497715Z",
          "iopub.execute_input": "2023-02-11T11:23:46.498109Z",
          "iopub.status.idle": "2023-02-11T11:23:47.000815Z",
          "shell.execute_reply.started": "2023-02-11T11:23:46.498076Z",
          "shell.execute_reply": "2023-02-11T11:23:47.000162Z"
        },
        "trusted": true,
        "id": "W_hkzaOwk0Og"
      },
      "execution_count": null,
      "outputs": []
    },
    {
      "cell_type": "code",
      "source": [
        "#Box plot for newbalanceOrig\n",
        "sns.boxplot(dataset['newbalanceOrig'])\n",
        "plt.show()"
      ],
      "metadata": {
        "execution": {
          "iopub.status.busy": "2023-02-11T11:24:00.791689Z",
          "iopub.execute_input": "2023-02-11T11:24:00.792022Z",
          "iopub.status.idle": "2023-02-11T11:24:02.270709Z",
          "shell.execute_reply.started": "2023-02-11T11:24:00.791977Z",
          "shell.execute_reply": "2023-02-11T11:24:02.269438Z"
        },
        "trusted": true,
        "id": "SZtHNuM7k0Og",
        "outputId": "792893fc-b830-4ddd-a1bc-e519d8e076b0"
      },
      "execution_count": null,
      "outputs": [
        {
          "output_type": "display_data",
          "data": {
            "text/plain": "<Figure size 432x288 with 1 Axes>",
            "image/png": "[encoded data removed]"
          },
          "metadata": {
            "needs_background": "light"
          }
        }
      ]
    },
    {
      "cell_type": "code",
      "source": [
        "#Box plot for oldbalanceDest\n",
        "sns.boxplot(dataset['oldbalanceDest'])\n",
        "plt.show()"
      ],
      "metadata": {
        "execution": {
          "iopub.status.busy": "2023-02-11T11:24:48.331738Z",
          "iopub.execute_input": "2023-02-11T11:24:48.332126Z",
          "iopub.status.idle": "2023-02-11T11:24:49.519321Z",
          "shell.execute_reply.started": "2023-02-11T11:24:48.332091Z",
          "shell.execute_reply": "2023-02-11T11:24:49.518209Z"
        },
        "trusted": true,
        "id": "pQ6aa1wCk0Oh",
        "outputId": "e3414c2f-89fe-41f4-8ce5-a4cbbdedec53"
      },
      "execution_count": null,
      "outputs": [
        {
          "output_type": "display_data",
          "data": {
            "text/plain": "<Figure size 432x288 with 1 Axes>",
            "image/png": "[encoded data removed]"
          },
          "metadata": {
            "needs_background": "light"
          }
        }
      ]
    },
    {
      "cell_type": "code",
      "source": [
        "# Removing more outliers\n",
        "dataset = dataset[dataset['oldbalanceDest']<300000000]"
      ],
      "metadata": {
        "execution": {
          "iopub.status.busy": "2023-02-11T11:25:46.144532Z",
          "iopub.execute_input": "2023-02-11T11:25:46.144865Z",
          "iopub.status.idle": "2023-02-11T11:25:46.638805Z",
          "shell.execute_reply.started": "2023-02-11T11:25:46.144839Z",
          "shell.execute_reply": "2023-02-11T11:25:46.637916Z"
        },
        "trusted": true,
        "id": "Y2uZhO1Uk0Oh"
      },
      "execution_count": null,
      "outputs": []
    },
    {
      "cell_type": "code",
      "source": [
        "#Box plot for oldbalanceDest\n",
        "sns.boxplot(dataset['oldbalanceDest'])\n",
        "plt.show()"
      ],
      "metadata": {
        "execution": {
          "iopub.status.busy": "2023-02-11T11:25:56.406592Z",
          "iopub.execute_input": "2023-02-11T11:25:56.406925Z",
          "iopub.status.idle": "2023-02-11T11:25:57.597849Z",
          "shell.execute_reply.started": "2023-02-11T11:25:56.406900Z",
          "shell.execute_reply": "2023-02-11T11:25:57.595508Z"
        },
        "trusted": true,
        "id": "hgE1Dj-ek0Oh",
        "outputId": "186dd852-24ec-4b96-e37f-9a27826c3d50"
      },
      "execution_count": null,
      "outputs": [
        {
          "output_type": "display_data",
          "data": {
            "text/plain": "<Figure size 432x288 with 1 Axes>",
            "image/png": "[encoded data removed]"
          },
          "metadata": {
            "needs_background": "light"
          }
        }
      ]
    },
    {
      "cell_type": "code",
      "source": [
        "#Box plot for newbalanceDest\n",
        "sns.boxplot(dataset['newbalanceDest'])\n",
        "plt.show()"
      ],
      "metadata": {
        "execution": {
          "iopub.status.busy": "2023-02-11T11:26:07.500999Z",
          "iopub.execute_input": "2023-02-11T11:26:07.501370Z",
          "iopub.status.idle": "2023-02-11T11:26:08.642463Z",
          "shell.execute_reply.started": "2023-02-11T11:26:07.501339Z",
          "shell.execute_reply": "2023-02-11T11:26:08.641411Z"
        },
        "trusted": true,
        "id": "0AwegNiNk0Oh",
        "outputId": "19619344-4bc4-458b-cf06-b080fcd2693b"
      },
      "execution_count": null,
      "outputs": [
        {
          "output_type": "display_data",
          "data": {
            "text/plain": "<Figure size 432x288 with 1 Axes>",
            "image/png": "[encoded data removed]"
          },
          "metadata": {
            "needs_background": "light"
          }
        }
      ]
    },
    {
      "cell_type": "code",
      "source": [
        "# Removing more outliers\n",
        "dataset = dataset[dataset['newbalanceDest']<350000000]"
      ],
      "metadata": {
        "execution": {
          "iopub.status.busy": "2023-02-11T11:27:15.561761Z",
          "iopub.execute_input": "2023-02-11T11:27:15.562167Z",
          "iopub.status.idle": "2023-02-11T11:27:16.090020Z",
          "shell.execute_reply.started": "2023-02-11T11:27:15.562137Z",
          "shell.execute_reply": "2023-02-11T11:27:16.089256Z"
        },
        "trusted": true,
        "id": "vwT8zZaPk0Oi"
      },
      "execution_count": null,
      "outputs": []
    },
    {
      "cell_type": "code",
      "source": [
        "#Box plot for newbalanceDest\n",
        "sns.boxplot(dataset['newbalanceDest'])\n",
        "plt.show()"
      ],
      "metadata": {
        "execution": {
          "iopub.status.busy": "2023-02-11T11:27:30.906671Z",
          "iopub.execute_input": "2023-02-11T11:27:30.907037Z",
          "iopub.status.idle": "2023-02-11T11:27:32.036406Z",
          "shell.execute_reply.started": "2023-02-11T11:27:30.907007Z",
          "shell.execute_reply": "2023-02-11T11:27:32.035071Z"
        },
        "trusted": true,
        "id": "TLNmn0f-k0Oi",
        "outputId": "279eb27e-9318-4b73-e0e5-eb5a2f49ce74"
      },
      "execution_count": null,
      "outputs": [
        {
          "output_type": "display_data",
          "data": {
            "text/plain": "<Figure size 432x288 with 1 Axes>",
            "image/png": "[encoded data removed]"
          },
          "metadata": {
            "needs_background": "light"
          }
        }
      ]
    },
    {
      "cell_type": "code",
      "source": [
        "# Plotting correlated Heat Map\n",
        "\n",
        "plt.figure(figsize=(12,8))\n",
        "sns.heatmap(dataset[['step', 'amount','oldbalanceOrg', 'newbalanceOrig',\n",
        "               'oldbalanceDest', 'newbalanceDest','payment type',\n",
        "               'isFlaggedFraud']].corr(),annot=True)\n",
        "plt.show()"
      ],
      "metadata": {
        "execution": {
          "iopub.status.busy": "2023-02-11T11:31:50.312014Z",
          "iopub.execute_input": "2023-02-11T11:31:50.312372Z",
          "iopub.status.idle": "2023-02-11T11:31:51.673625Z",
          "shell.execute_reply.started": "2023-02-11T11:31:50.312341Z",
          "shell.execute_reply": "2023-02-11T11:31:51.672472Z"
        },
        "trusted": true,
        "id": "92f3TSOmk0Oj",
        "outputId": "69222464-9610-42ab-f0aa-061bbc1b9684"
      },
      "execution_count": null,
      "outputs": [
        {
          "output_type": "display_data",
          "data": {
            "text/plain": "<Figure size 864x576 with 2 Axes>",
            "image/png": "[encoded data removed]"
          },
          "metadata": {
            "needs_background": "light"
          }
        }
      ]
    },
    {
      "cell_type": "markdown",
      "source": [
        "There is a correlation of 1 between newbalanceOrig and oldbalanceOrg and correlation of 9.8 between oldbalanceDest and newbalanceDest. Hence removing the oldbalanceOrg and oldbalanceDest after comparing the feature importances."
      ],
      "metadata": {
        "id": "Wm5GpCHok0Oj"
      }
    },
    {
      "cell_type": "code",
      "source": [
        "dataset = dataset.drop(['oldbalanceOrg','oldbalanceDest'],axis=1)\n",
        "dataset"
      ],
      "metadata": {
        "execution": {
          "iopub.status.busy": "2023-02-11T11:37:21.637442Z",
          "iopub.execute_input": "2023-02-11T11:37:21.637717Z",
          "iopub.status.idle": "2023-02-11T11:37:21.819263Z",
          "shell.execute_reply.started": "2023-02-11T11:37:21.637692Z",
          "shell.execute_reply": "2023-02-11T11:37:21.818215Z"
        },
        "trusted": true,
        "id": "IAYoQpHMk0Oj",
        "outputId": "3122d568-5cd5-4cbe-ffc8-581f4de2d037"
      },
      "execution_count": null,
      "outputs": [
        {
          "execution_count": 88,
          "output_type": "execute_result",
          "data": {
            "text/plain": "         step      amount     nameOrig  newbalanceOrig     nameDest  \\\n0           1     9839.64  C1231006815       160296.36  M1979787155   \n1           1     1864.28  C1666544295        19384.72  M2044282225   \n2           1      181.00  C1305486145            0.00   C553264065   \n3           1      181.00   C840083671            0.00    C38997010   \n4           1    11668.14  C2048537720        29885.86  M1230701703   \n...       ...         ...          ...             ...          ...   \n6362615   743   339682.13   C786484425            0.00   C776919290   \n6362616   743  6311409.28  C1529008245            0.00  C1881841831   \n6362617   743  6311409.28  C1162922333            0.00  C1365125890   \n6362618   743   850002.52  C1685995037            0.00  C2080388513   \n6362619   743   850002.52  C1280323807            0.00   C873221189   \n\n         newbalanceDest  isFraud  isFlaggedFraud  payment type  \n0                  0.00        0               0             1  \n1                  0.00        0               0             1  \n2                  0.00        1               0             2  \n3                  0.00        1               0             3  \n4                  0.00        0               0             1  \n...                 ...      ...             ...           ...  \n6362615       339682.13        1               0             3  \n6362616            0.00        1               0             2  \n6362617      6379898.11        1               0             3  \n6362618            0.00        1               0             2  \n6362619      7360101.63        1               0             3  \n\n[6362588 rows x 9 columns]",
            "text/html": "<div>\n<style scoped>\n    .dataframe tbody tr th:only-of-type {\n        vertical-align: middle;\n    }\n\n    .dataframe tbody tr th {\n        vertical-align: top;\n    }\n\n    .dataframe thead th {\n        text-align: right;\n    }\n</style>\n<table border=\"1\" class=\"dataframe\">\n  <thead>\n    <tr style=\"text-align: right;\">\n      <th></th>\n      <th>step</th>\n      <th>amount</th>\n      <th>nameOrig</th>\n      <th>newbalanceOrig</th>\n      <th>nameDest</th>\n      <th>newbalanceDest</th>\n      <th>isFraud</th>\n      <th>isFlaggedFraud</th>\n      <th>payment type</th>\n    </tr>\n  </thead>\n  <tbody>\n    <tr>\n      <th>0</th>\n      <td>1</td>\n      <td>9839.64</td>\n      <td>C1231006815</td>\n      <td>160296.36</td>\n      <td>M1979787155</td>\n      <td>0.00</td>\n      <td>0</td>\n      <td>0</td>\n      <td>1</td>\n    </tr>\n    <tr>\n      <th>1</th>\n      <td>1</td>\n      <td>1864.28</td>\n      <td>C1666544295</td>\n      <td>19384.72</td>\n      <td>M2044282225</td>\n      <td>0.00</td>\n      <td>0</td>\n      <td>0</td>\n      <td>1</td>\n    </tr>\n    <tr>\n      <th>2</th>\n      <td>1</td>\n      <td>181.00</td>\n      <td>C1305486145</td>\n      <td>0.00</td>\n      <td>C553264065</td>\n      <td>0.00</td>\n      <td>1</td>\n      <td>0</td>\n      <td>2</td>\n    </tr>\n    <tr>\n      <th>3</th>\n      <td>1</td>\n      <td>181.00</td>\n      <td>C840083671</td>\n      <td>0.00</td>\n      <td>C38997010</td>\n      <td>0.00</td>\n      <td>1</td>\n      <td>0</td>\n      <td>3</td>\n    </tr>\n    <tr>\n      <th>4</th>\n      <td>1</td>\n      <td>11668.14</td>\n      <td>C2048537720</td>\n      <td>29885.86</td>\n      <td>M1230701703</td>\n      <td>0.00</td>\n      <td>0</td>\n      <td>0</td>\n      <td>1</td>\n    </tr>\n    <tr>\n      <th>...</th>\n      <td>...</td>\n      <td>...</td>\n      <td>...</td>\n      <td>...</td>\n      <td>...</td>\n      <td>...</td>\n      <td>...</td>\n      <td>...</td>\n      <td>...</td>\n    </tr>\n    <tr>\n      <th>6362615</th>\n      <td>743</td>\n      <td>339682.13</td>\n      <td>C786484425</td>\n      <td>0.00</td>\n      <td>C776919290</td>\n      <td>339682.13</td>\n      <td>1</td>\n      <td>0</td>\n      <td>3</td>\n    </tr>\n    <tr>\n      <th>6362616</th>\n      <td>743</td>\n      <td>6311409.28</td>\n      <td>C1529008245</td>\n      <td>0.00</td>\n      <td>C1881841831</td>\n      <td>0.00</td>\n      <td>1</td>\n      <td>0</td>\n      <td>2</td>\n    </tr>\n    <tr>\n      <th>6362617</th>\n      <td>743</td>\n      <td>6311409.28</td>\n      <td>C1162922333</td>\n      <td>0.00</td>\n      <td>C1365125890</td>\n      <td>6379898.11</td>\n      <td>1</td>\n      <td>0</td>\n      <td>3</td>\n    </tr>\n    <tr>\n      <th>6362618</th>\n      <td>743</td>\n      <td>850002.52</td>\n      <td>C1685995037</td>\n      <td>0.00</td>\n      <td>C2080388513</td>\n      <td>0.00</td>\n      <td>1</td>\n      <td>0</td>\n      <td>2</td>\n    </tr>\n    <tr>\n      <th>6362619</th>\n      <td>743</td>\n      <td>850002.52</td>\n      <td>C1280323807</td>\n      <td>0.00</td>\n      <td>C873221189</td>\n      <td>7360101.63</td>\n      <td>1</td>\n      <td>0</td>\n      <td>3</td>\n    </tr>\n  </tbody>\n</table>\n<p>6362588 rows × 9 columns</p>\n</div>"
          },
          "metadata": {}
        }
      ]
    },
    {
      "cell_type": "markdown",
      "source": [
        "# Dividing the dataset into dependent and independent variables."
      ],
      "metadata": {
        "id": "d2vfnGJ_k0Ok"
      }
    },
    {
      "cell_type": "markdown",
      "source": [
        "#### Independent variables"
      ],
      "metadata": {
        "id": "jcFN5sfTk0Ok"
      }
    },
    {
      "cell_type": "code",
      "source": [
        "X = dataset.drop(['nameOrig','nameDest','isFraud','isFlaggedFraud'],axis = 1)\n",
        "X"
      ],
      "metadata": {
        "execution": {
          "iopub.status.busy": "2023-02-11T11:40:16.099776Z",
          "iopub.execute_input": "2023-02-11T11:40:16.100138Z",
          "iopub.status.idle": "2023-02-11T11:40:16.153651Z",
          "shell.execute_reply.started": "2023-02-11T11:40:16.100107Z",
          "shell.execute_reply": "2023-02-11T11:40:16.152637Z"
        },
        "trusted": true,
        "id": "9h3QctPyk0Ok",
        "outputId": "fa97b160-c453-40b2-cdf0-ba9e2c29bd76"
      },
      "execution_count": null,
      "outputs": [
        {
          "execution_count": 89,
          "output_type": "execute_result",
          "data": {
            "text/plain": "         step      amount  newbalanceOrig  newbalanceDest  payment type\n0           1     9839.64       160296.36            0.00             1\n1           1     1864.28        19384.72            0.00             1\n2           1      181.00            0.00            0.00             2\n3           1      181.00            0.00            0.00             3\n4           1    11668.14        29885.86            0.00             1\n...       ...         ...             ...             ...           ...\n6362615   743   339682.13            0.00       339682.13             3\n6362616   743  6311409.28            0.00            0.00             2\n6362617   743  6311409.28            0.00      6379898.11             3\n6362618   743   850002.52            0.00            0.00             2\n6362619   743   850002.52            0.00      7360101.63             3\n\n[6362588 rows x 5 columns]",
            "text/html": "<div>\n<style scoped>\n    .dataframe tbody tr th:only-of-type {\n        vertical-align: middle;\n    }\n\n    .dataframe tbody tr th {\n        vertical-align: top;\n    }\n\n    .dataframe thead th {\n        text-align: right;\n    }\n</style>\n<table border=\"1\" class=\"dataframe\">\n  <thead>\n    <tr style=\"text-align: right;\">\n      <th></th>\n      <th>step</th>\n      <th>amount</th>\n      <th>newbalanceOrig</th>\n      <th>newbalanceDest</th>\n      <th>payment type</th>\n    </tr>\n  </thead>\n  <tbody>\n    <tr>\n      <th>0</th>\n      <td>1</td>\n      <td>9839.64</td>\n      <td>160296.36</td>\n      <td>0.00</td>\n      <td>1</td>\n    </tr>\n    <tr>\n      <th>1</th>\n      <td>1</td>\n      <td>1864.28</td>\n      <td>19384.72</td>\n      <td>0.00</td>\n      <td>1</td>\n    </tr>\n    <tr>\n      <th>2</th>\n      <td>1</td>\n      <td>181.00</td>\n      <td>0.00</td>\n      <td>0.00</td>\n      <td>2</td>\n    </tr>\n    <tr>\n      <th>3</th>\n      <td>1</td>\n      <td>181.00</td>\n      <td>0.00</td>\n      <td>0.00</td>\n      <td>3</td>\n    </tr>\n    <tr>\n      <th>4</th>\n      <td>1</td>\n      <td>11668.14</td>\n      <td>29885.86</td>\n      <td>0.00</td>\n      <td>1</td>\n    </tr>\n    <tr>\n      <th>...</th>\n      <td>...</td>\n      <td>...</td>\n      <td>...</td>\n      <td>...</td>\n      <td>...</td>\n    </tr>\n    <tr>\n      <th>6362615</th>\n      <td>743</td>\n      <td>339682.13</td>\n      <td>0.00</td>\n      <td>339682.13</td>\n      <td>3</td>\n    </tr>\n    <tr>\n      <th>6362616</th>\n      <td>743</td>\n      <td>6311409.28</td>\n      <td>0.00</td>\n      <td>0.00</td>\n      <td>2</td>\n    </tr>\n    <tr>\n      <th>6362617</th>\n      <td>743</td>\n      <td>6311409.28</td>\n      <td>0.00</td>\n      <td>6379898.11</td>\n      <td>3</td>\n    </tr>\n    <tr>\n      <th>6362618</th>\n      <td>743</td>\n      <td>850002.52</td>\n      <td>0.00</td>\n      <td>0.00</td>\n      <td>2</td>\n    </tr>\n    <tr>\n      <th>6362619</th>\n      <td>743</td>\n      <td>850002.52</td>\n      <td>0.00</td>\n      <td>7360101.63</td>\n      <td>3</td>\n    </tr>\n  </tbody>\n</table>\n<p>6362588 rows × 5 columns</p>\n</div>"
          },
          "metadata": {}
        }
      ]
    },
    {
      "cell_type": "markdown",
      "source": [
        "#### Dependent variable"
      ],
      "metadata": {
        "id": "cHOXzLVWk0Ok"
      }
    },
    {
      "cell_type": "code",
      "source": [
        "y = dataset['isFraud']\n",
        "y"
      ],
      "metadata": {
        "execution": {
          "iopub.status.busy": "2023-02-11T11:41:16.112950Z",
          "iopub.execute_input": "2023-02-11T11:41:16.113313Z",
          "iopub.status.idle": "2023-02-11T11:41:16.122359Z",
          "shell.execute_reply.started": "2023-02-11T11:41:16.113286Z",
          "shell.execute_reply": "2023-02-11T11:41:16.121145Z"
        },
        "trusted": true,
        "id": "OBhBkQzPk0Ol",
        "outputId": "2424b7f2-4530-4a7b-aa92-85d0e7868119"
      },
      "execution_count": null,
      "outputs": [
        {
          "execution_count": 90,
          "output_type": "execute_result",
          "data": {
            "text/plain": "0          0\n1          0\n2          1\n3          1\n4          0\n          ..\n6362615    1\n6362616    1\n6362617    1\n6362618    1\n6362619    1\nName: isFraud, Length: 6362588, dtype: int64"
          },
          "metadata": {}
        }
      ]
    },
    {
      "cell_type": "markdown",
      "source": [
        "# Scaling the data"
      ],
      "metadata": {
        "id": "xgUMn2Hik0Ol"
      }
    },
    {
      "cell_type": "code",
      "source": [
        "# Scaling\n",
        "from sklearn.preprocessing import StandardScaler\n",
        "sc = StandardScaler()\n",
        "X_scaled = sc.fit_transform(X)"
      ],
      "metadata": {
        "execution": {
          "iopub.status.busy": "2023-02-11T11:42:08.376173Z",
          "iopub.execute_input": "2023-02-11T11:42:08.376807Z",
          "iopub.status.idle": "2023-02-11T11:42:08.672019Z",
          "shell.execute_reply.started": "2023-02-11T11:42:08.376770Z",
          "shell.execute_reply": "2023-02-11T11:42:08.670654Z"
        },
        "trusted": true,
        "id": "5l3Y-SJQk0Ol"
      },
      "execution_count": null,
      "outputs": []
    },
    {
      "cell_type": "markdown",
      "source": [
        "# Train Test split"
      ],
      "metadata": {
        "id": "GKnkGsOlk0Ol"
      }
    },
    {
      "cell_type": "markdown",
      "source": [
        "####  Splitting the data into train, test and validation\n",
        "#### Used 70-30 split for train and test data"
      ],
      "metadata": {
        "id": "43PLhP1qk0Om"
      }
    },
    {
      "cell_type": "code",
      "source": [
        "from sklearn.model_selection import train_test_split\n",
        "\n",
        "X_train,X_test,y_train,y_test = train_test_split(X_scaled,y,test_size=0.3,random_state=120)"
      ],
      "metadata": {
        "execution": {
          "iopub.status.busy": "2023-02-11T11:43:21.949551Z",
          "iopub.execute_input": "2023-02-11T11:43:21.949958Z",
          "iopub.status.idle": "2023-02-11T11:43:23.170958Z",
          "shell.execute_reply.started": "2023-02-11T11:43:21.949927Z",
          "shell.execute_reply": "2023-02-11T11:43:23.170281Z"
        },
        "trusted": true,
        "id": "Mr7oslnuk0Om"
      },
      "execution_count": null,
      "outputs": []
    },
    {
      "cell_type": "markdown",
      "source": [
        "# Model creation"
      ],
      "metadata": {
        "id": "fdwED6s2k0Om"
      }
    },
    {
      "cell_type": "markdown",
      "source": [
        "### Creating Logistic Regression Model"
      ],
      "metadata": {
        "id": "sYBLs_PJk0Om"
      }
    },
    {
      "cell_type": "code",
      "source": [
        "from sklearn.linear_model import LogisticRegression\n",
        "\n",
        "lg_model = LogisticRegression()\n",
        "lg_model = lg_model.fit(X_train,y_train)\n",
        "\n",
        "y_test_pred = lg_model.predict(X_test)"
      ],
      "metadata": {
        "execution": {
          "iopub.status.busy": "2023-02-11T11:44:29.704515Z",
          "iopub.execute_input": "2023-02-11T11:44:29.705202Z",
          "iopub.status.idle": "2023-02-11T11:44:35.673530Z",
          "shell.execute_reply.started": "2023-02-11T11:44:29.705168Z",
          "shell.execute_reply": "2023-02-11T11:44:35.672442Z"
        },
        "trusted": true,
        "id": "q9CwBVFvk0Om"
      },
      "execution_count": null,
      "outputs": []
    },
    {
      "cell_type": "code",
      "source": [
        "y_test_prob = lg_model.predict_proba(X_test)"
      ],
      "metadata": {
        "execution": {
          "iopub.status.busy": "2023-02-11T11:45:04.664477Z",
          "iopub.execute_input": "2023-02-11T11:45:04.664819Z",
          "iopub.status.idle": "2023-02-11T11:45:04.706635Z",
          "shell.execute_reply.started": "2023-02-11T11:45:04.664792Z",
          "shell.execute_reply": "2023-02-11T11:45:04.705522Z"
        },
        "trusted": true,
        "id": "Ko_uVJ99k0On"
      },
      "execution_count": null,
      "outputs": []
    },
    {
      "cell_type": "markdown",
      "source": [
        "##### AUC Score for test"
      ],
      "metadata": {
        "id": "kqmwlamhk0On"
      }
    },
    {
      "cell_type": "code",
      "source": [
        "from sklearn.metrics import confusion_matrix,roc_auc_score,log_loss,roc_curve,accuracy_score"
      ],
      "metadata": {
        "execution": {
          "iopub.status.busy": "2023-02-11T11:45:51.324777Z",
          "iopub.execute_input": "2023-02-11T11:45:51.325155Z",
          "iopub.status.idle": "2023-02-11T11:45:51.330568Z",
          "shell.execute_reply.started": "2023-02-11T11:45:51.325122Z",
          "shell.execute_reply": "2023-02-11T11:45:51.329337Z"
        },
        "trusted": true,
        "id": "6ZpIL4D2k0On"
      },
      "execution_count": null,
      "outputs": []
    },
    {
      "cell_type": "code",
      "source": [
        "print('The train AUC score is:',roc_auc_score(y_test,y_test_prob[:,1]))"
      ],
      "metadata": {
        "execution": {
          "iopub.status.busy": "2023-02-11T11:46:04.214722Z",
          "iopub.execute_input": "2023-02-11T11:46:04.215085Z",
          "iopub.status.idle": "2023-02-11T11:46:04.777177Z",
          "shell.execute_reply.started": "2023-02-11T11:46:04.215059Z",
          "shell.execute_reply": "2023-02-11T11:46:04.776139Z"
        },
        "trusted": true,
        "id": "GOCPWxUMk0On",
        "outputId": "5d9412fd-b61c-42f7-c21d-e6520fb1a176"
      },
      "execution_count": null,
      "outputs": [
        {
          "name": "stdout",
          "text": "The train AUC score is: 0.8279622828510923\n",
          "output_type": "stream"
        }
      ]
    },
    {
      "cell_type": "markdown",
      "source": [
        "#### Plotting the AUC curve"
      ],
      "metadata": {
        "id": "ppn6Z0eAk0Oo"
      }
    },
    {
      "cell_type": "code",
      "source": [
        "fpr, tpr, thresholds = roc_curve(y_test, y_test_prob[:,1])\n",
        "plt.plot(fpr,fpr)\n",
        "plt.plot(fpr,tpr)\n",
        "plt.grid()\n",
        "plt.title('Test ROC curve')\n",
        "plt.show()"
      ],
      "metadata": {
        "execution": {
          "iopub.status.busy": "2023-02-11T11:46:42.624564Z",
          "iopub.execute_input": "2023-02-11T11:46:42.625174Z",
          "iopub.status.idle": "2023-02-11T11:46:43.186809Z",
          "shell.execute_reply.started": "2023-02-11T11:46:42.625144Z",
          "shell.execute_reply": "2023-02-11T11:46:43.185638Z"
        },
        "trusted": true,
        "id": "uhX8444Ak0Oo",
        "outputId": "9739927a-52a6-45c0-a9e7-35d8a6118087"
      },
      "execution_count": null,
      "outputs": [
        {
          "output_type": "display_data",
          "data": {
            "text/plain": "<Figure size 432x288 with 1 Axes>",
            "image/png": "[encoded data removed]"
          },
          "metadata": {
            "needs_background": "light"
          }
        }
      ]
    },
    {
      "cell_type": "markdown",
      "source": [
        "#### Getting Confusion Matrix and ploting it."
      ],
      "metadata": {
        "id": "hgloulo7k0Oo"
      }
    },
    {
      "cell_type": "code",
      "source": [
        "confusion_matrix(y_test,y_test_pred)"
      ],
      "metadata": {
        "execution": {
          "iopub.status.busy": "2023-02-11T11:47:22.754643Z",
          "iopub.execute_input": "2023-02-11T11:47:22.755030Z",
          "iopub.status.idle": "2023-02-11T11:47:22.929442Z",
          "shell.execute_reply.started": "2023-02-11T11:47:22.754972Z",
          "shell.execute_reply": "2023-02-11T11:47:22.928529Z"
        },
        "trusted": true,
        "id": "2IlV3qVmk0Op",
        "outputId": "636ebd6a-1b16-4554-d5ad-26663d6110fc"
      },
      "execution_count": null,
      "outputs": [
        {
          "execution_count": 99,
          "output_type": "execute_result",
          "data": {
            "text/plain": "array([[1906245,     144],\n       [   2204,     184]])"
          },
          "metadata": {}
        }
      ]
    },
    {
      "cell_type": "code",
      "source": [
        "sns.heatmap(confusion_matrix(y_test,y_test_pred),annot=True)\n",
        "plt.show()"
      ],
      "metadata": {
        "execution": {
          "iopub.status.busy": "2023-02-11T11:47:32.744702Z",
          "iopub.execute_input": "2023-02-11T11:47:32.745092Z",
          "iopub.status.idle": "2023-02-11T11:47:33.077931Z",
          "shell.execute_reply.started": "2023-02-11T11:47:32.745061Z",
          "shell.execute_reply": "2023-02-11T11:47:33.076786Z"
        },
        "trusted": true,
        "id": "6lSdFEy-k0Op",
        "outputId": "9c0e0f11-9cd2-4353-d8d2-1d6f51f9252f"
      },
      "execution_count": null,
      "outputs": [
        {
          "output_type": "display_data",
          "data": {
            "text/plain": "<Figure size 432x288 with 2 Axes>",
            "image/png": "[encoded data removed]"
          },
          "metadata": {
            "needs_background": "light"
          }
        }
      ]
    },
    {
      "cell_type": "markdown",
      "source": [
        "#### Getting Classification Report"
      ],
      "metadata": {
        "id": "9XMNV53gk0Op"
      }
    },
    {
      "cell_type": "code",
      "source": [
        "from sklearn.metrics import classification_report\n",
        "print('Test Classification Report\\n')\n",
        "print(classification_report(y_test,y_test_pred))"
      ],
      "metadata": {
        "execution": {
          "iopub.status.busy": "2023-02-11T11:48:16.280052Z",
          "iopub.execute_input": "2023-02-11T11:48:16.280426Z",
          "iopub.status.idle": "2023-02-11T11:48:17.830585Z",
          "shell.execute_reply.started": "2023-02-11T11:48:16.280396Z",
          "shell.execute_reply": "2023-02-11T11:48:17.829179Z"
        },
        "trusted": true,
        "id": "SjVBG4Wgk0Op",
        "outputId": "76cf2d2c-428e-4fc4-b54c-c4b7727ab553"
      },
      "execution_count": null,
      "outputs": [
        {
          "name": "stdout",
          "text": "Test Classification Report\n\n              precision    recall  f1-score   support\n\n           0       1.00      1.00      1.00   1906389\n           1       0.56      0.08      0.14      2388\n\n    accuracy                           1.00   1908777\n   macro avg       0.78      0.54      0.57   1908777\nweighted avg       1.00      1.00      1.00   1908777\n\n",
          "output_type": "stream"
        }
      ]
    },
    {
      "cell_type": "markdown",
      "source": [
        "#### For 1s the f1 score is really low and this happens due to imbalance data\n",
        "\n",
        "#### Before computing the binary log loss, we need to perform caliberation"
      ],
      "metadata": {
        "id": "PdONVuLnk0Oq"
      }
    },
    {
      "cell_type": "code",
      "source": [
        "from sklearn.calibration import CalibratedClassifierCV\n",
        "model_isotonic = CalibratedClassifierCV(lg_model, cv=3, method='isotonic')\n",
        "model_isotonic.fit(X_train,y_train)"
      ],
      "metadata": {
        "execution": {
          "iopub.status.busy": "2023-02-11T11:49:28.507842Z",
          "iopub.execute_input": "2023-02-11T11:49:28.508240Z",
          "iopub.status.idle": "2023-02-11T11:49:44.502434Z",
          "shell.execute_reply.started": "2023-02-11T11:49:28.508209Z",
          "shell.execute_reply": "2023-02-11T11:49:44.501520Z"
        },
        "trusted": true,
        "id": "ypW5O1kKk0Or",
        "outputId": "b3a39f95-58d9-48aa-c74d-bebe0c22826d"
      },
      "execution_count": null,
      "outputs": [
        {
          "execution_count": 102,
          "output_type": "execute_result",
          "data": {
            "text/plain": "CalibratedClassifierCV(base_estimator=LogisticRegression(), cv=3,\n                       method='isotonic')"
          },
          "metadata": {}
        }
      ]
    },
    {
      "cell_type": "code",
      "source": [
        "isotonic_predict_prob_test = model_isotonic.predict_proba(X_test)"
      ],
      "metadata": {
        "execution": {
          "iopub.status.busy": "2023-02-11T11:49:48.347037Z",
          "iopub.execute_input": "2023-02-11T11:49:48.347739Z",
          "iopub.status.idle": "2023-02-11T11:49:48.639578Z",
          "shell.execute_reply.started": "2023-02-11T11:49:48.347696Z",
          "shell.execute_reply": "2023-02-11T11:49:48.638726Z"
        },
        "trusted": true,
        "id": "FPbLvqgXk0Or"
      },
      "execution_count": null,
      "outputs": []
    },
    {
      "cell_type": "code",
      "source": [
        "log_loss(y_test,isotonic_predict_prob_test)"
      ],
      "metadata": {
        "execution": {
          "iopub.status.busy": "2023-02-11T11:49:58.607541Z",
          "iopub.execute_input": "2023-02-11T11:49:58.607908Z",
          "iopub.status.idle": "2023-02-11T11:49:58.866917Z",
          "shell.execute_reply.started": "2023-02-11T11:49:58.607877Z",
          "shell.execute_reply": "2023-02-11T11:49:58.866025Z"
        },
        "trusted": true,
        "id": "vldayB4Sk0Or",
        "outputId": "4f05fd34-8dfe-47e5-b3ce-259d9e8e6e28"
      },
      "execution_count": null,
      "outputs": [
        {
          "execution_count": 104,
          "output_type": "execute_result",
          "data": {
            "text/plain": "0.007359032989460836"
          },
          "metadata": {}
        }
      ]
    },
    {
      "cell_type": "markdown",
      "source": [
        "# SMOTE"
      ],
      "metadata": {
        "id": "brW7bn4mk0Os"
      }
    },
    {
      "cell_type": "markdown",
      "source": [
        "##### Applying SMOTE to deal with data imbalance"
      ],
      "metadata": {
        "id": "vNL6sDW0k0Os"
      }
    },
    {
      "cell_type": "code",
      "source": [
        "from imblearn.over_sampling import SMOTE\n",
        "smote = SMOTE()\n",
        "X_sm,y_sm = smote.fit_resample(X,y)\n",
        "X_sm.shape,y_sm.shape"
      ],
      "metadata": {
        "execution": {
          "iopub.status.busy": "2023-02-11T12:42:14.811441Z",
          "iopub.execute_input": "2023-02-11T12:42:14.811793Z",
          "iopub.status.idle": "2023-02-11T12:42:16.513406Z",
          "shell.execute_reply.started": "2023-02-11T12:42:14.811763Z",
          "shell.execute_reply": "2023-02-11T12:42:16.512647Z"
        },
        "trusted": true,
        "id": "1r12IZ__k0Ot",
        "outputId": "43d2ab73-27ad-4320-f98e-0c7689563858"
      },
      "execution_count": null,
      "outputs": [
        {
          "execution_count": 128,
          "output_type": "execute_result",
          "data": {
            "text/plain": "((12708762, 5), (12708762,))"
          },
          "metadata": {}
        }
      ]
    },
    {
      "cell_type": "markdown",
      "source": [
        "# Train Test split after resampling"
      ],
      "metadata": {
        "id": "Tpqq896dk0Ot"
      }
    },
    {
      "cell_type": "code",
      "source": [
        "X_train_sm,X_test_sm,y_train_sm,y_test_sm = train_test_split(X_sm,y_sm,test_size=0.3,random_state=120)"
      ],
      "metadata": {
        "execution": {
          "iopub.status.busy": "2023-02-11T12:45:00.646840Z",
          "iopub.execute_input": "2023-02-11T12:45:00.647236Z",
          "iopub.status.idle": "2023-02-11T12:45:03.131568Z",
          "shell.execute_reply.started": "2023-02-11T12:45:00.647205Z",
          "shell.execute_reply": "2023-02-11T12:45:03.130114Z"
        },
        "trusted": true,
        "id": "jqFX4o65k0Ot"
      },
      "execution_count": null,
      "outputs": []
    },
    {
      "cell_type": "markdown",
      "source": [
        "# Model creation"
      ],
      "metadata": {
        "id": "LvDcVLDfk0Ot"
      }
    },
    {
      "cell_type": "code",
      "source": [
        "# Creating Logistic Regression Model\n",
        "lg_model_sm = LogisticRegression()\n",
        "lg_model_sm = lg_model_sm.fit(X_train_sm,y_train_sm)\n",
        "\n",
        "y_test_sm_pred = lg_model_sm.predict(X_test_sm)"
      ],
      "metadata": {
        "execution": {
          "iopub.status.busy": "2023-02-11T12:46:44.471827Z",
          "iopub.execute_input": "2023-02-11T12:46:44.472422Z",
          "iopub.status.idle": "2023-02-11T12:46:55.811086Z",
          "shell.execute_reply.started": "2023-02-11T12:46:44.472391Z",
          "shell.execute_reply": "2023-02-11T12:46:55.810266Z"
        },
        "trusted": true,
        "id": "s97CAqCUk0Ou"
      },
      "execution_count": null,
      "outputs": []
    },
    {
      "cell_type": "code",
      "source": [
        "y_test_prob_sm = lg_model_sm.predict_proba(X_test_sm)"
      ],
      "metadata": {
        "execution": {
          "iopub.status.busy": "2023-02-11T12:47:34.171971Z",
          "iopub.execute_input": "2023-02-11T12:47:34.172622Z",
          "iopub.status.idle": "2023-02-11T12:47:34.272698Z",
          "shell.execute_reply.started": "2023-02-11T12:47:34.172589Z",
          "shell.execute_reply": "2023-02-11T12:47:34.271822Z"
        },
        "trusted": true,
        "id": "-_k8H7uck0Ou"
      },
      "execution_count": null,
      "outputs": []
    },
    {
      "cell_type": "code",
      "source": [
        "# Getting AUC score\n",
        "print('The train AUC score is:',roc_auc_score(y_test_sm,y_test_prob_sm[:,1]))"
      ],
      "metadata": {
        "execution": {
          "iopub.status.busy": "2023-02-11T12:48:18.351791Z",
          "iopub.execute_input": "2023-02-11T12:48:18.352175Z",
          "iopub.status.idle": "2023-02-11T12:48:19.752336Z",
          "shell.execute_reply.started": "2023-02-11T12:48:18.352144Z",
          "shell.execute_reply": "2023-02-11T12:48:19.751429Z"
        },
        "trusted": true,
        "id": "JakRappdk0Ou",
        "outputId": "d70cd55b-ce91-46e5-a763-c03e5c881065"
      },
      "execution_count": null,
      "outputs": [
        {
          "name": "stdout",
          "text": "The train AUC score is: 0.8530882086893212\n",
          "output_type": "stream"
        }
      ]
    },
    {
      "cell_type": "code",
      "source": [
        "# Plotting the AUC curve\n",
        "\n",
        "fpr, tpr, thresholds = roc_curve(y_test_sm, y_test_prob_sm[:,1])\n",
        "plt.plot(fpr,fpr)\n",
        "plt.plot(fpr,tpr)\n",
        "plt.grid()\n",
        "plt.title('Test ROC curve')\n",
        "plt.show()"
      ],
      "metadata": {
        "execution": {
          "iopub.status.busy": "2023-02-11T12:50:15.232086Z",
          "iopub.execute_input": "2023-02-11T12:50:15.232454Z",
          "iopub.status.idle": "2023-02-11T12:50:16.538534Z",
          "shell.execute_reply.started": "2023-02-11T12:50:15.232426Z",
          "shell.execute_reply": "2023-02-11T12:50:16.537375Z"
        },
        "trusted": true,
        "id": "OlOtkwWqk0Ou",
        "outputId": "04109bd1-665e-4f2f-d6db-dfe3fe93e7b3"
      },
      "execution_count": null,
      "outputs": [
        {
          "output_type": "display_data",
          "data": {
            "text/plain": "<Figure size 432x288 with 1 Axes>",
            "image/png": "[encoded data removed]"
          },
          "metadata": {
            "needs_background": "light"
          }
        }
      ]
    },
    {
      "cell_type": "code",
      "source": [
        "#Getting Confusion Matrix\n",
        "\n",
        "confusion_matrix(y_test_sm,y_test_sm_pred)"
      ],
      "metadata": {
        "execution": {
          "iopub.status.busy": "2023-02-11T12:51:18.257300Z",
          "iopub.execute_input": "2023-02-11T12:51:18.257650Z",
          "iopub.status.idle": "2023-02-11T12:51:18.742314Z",
          "shell.execute_reply.started": "2023-02-11T12:51:18.257625Z",
          "shell.execute_reply": "2023-02-11T12:51:18.741329Z"
        },
        "trusted": true,
        "id": "G15mCnvyk0Ov",
        "outputId": "31ceed6d-a01f-4148-cdbd-8dc1ff6a8f75"
      },
      "execution_count": null,
      "outputs": [
        {
          "execution_count": 136,
          "output_type": "execute_result",
          "data": {
            "text/plain": "array([[ 901001, 1005928],\n       [ 174576, 1731124]])"
          },
          "metadata": {}
        }
      ]
    },
    {
      "cell_type": "code",
      "source": [
        "# Plotting Confussion Matrix\n",
        "\n",
        "sns.heatmap(confusion_matrix(y_test_sm,y_test_sm_pred),annot=True)\n",
        "plt.show()"
      ],
      "metadata": {
        "execution": {
          "iopub.status.busy": "2023-02-11T12:51:47.238530Z",
          "iopub.execute_input": "2023-02-11T12:51:47.238858Z",
          "iopub.status.idle": "2023-02-11T12:51:47.877093Z",
          "shell.execute_reply.started": "2023-02-11T12:51:47.238832Z",
          "shell.execute_reply": "2023-02-11T12:51:47.876342Z"
        },
        "trusted": true,
        "id": "xvTQ__f0k0Ov",
        "outputId": "0d4367a0-09c7-4d2b-f90a-5c8005146c22"
      },
      "execution_count": null,
      "outputs": [
        {
          "output_type": "display_data",
          "data": {
            "text/plain": "<Figure size 432x288 with 2 Axes>",
            "image/png": "[encoded data removed]"
          },
          "metadata": {
            "needs_background": "light"
          }
        }
      ]
    },
    {
      "cell_type": "code",
      "source": [
        "# getting Classification Report\n",
        "\n",
        "from sklearn.metrics import classification_report\n",
        "print('Test Classification Report\\n')\n",
        "print(classification_report(y_test_sm,y_test_sm_pred))"
      ],
      "metadata": {
        "execution": {
          "iopub.status.busy": "2023-02-11T12:52:31.452390Z",
          "iopub.execute_input": "2023-02-11T12:52:31.452965Z",
          "iopub.status.idle": "2023-02-11T12:52:36.171068Z",
          "shell.execute_reply.started": "2023-02-11T12:52:31.452932Z",
          "shell.execute_reply": "2023-02-11T12:52:36.169590Z"
        },
        "trusted": true,
        "id": "JPp9OTN2k0Ov",
        "outputId": "280f4f2d-f6a8-4ec2-fc4f-8f234e9aab91"
      },
      "execution_count": null,
      "outputs": [
        {
          "name": "stdout",
          "text": "Test Classification Report\n\n              precision    recall  f1-score   support\n\n           0       0.84      0.47      0.60   1906929\n           1       0.63      0.91      0.75   1905700\n\n    accuracy                           0.69   3812629\n   macro avg       0.74      0.69      0.67   3812629\nweighted avg       0.74      0.69      0.67   3812629\n\n",
          "output_type": "stream"
        }
      ]
    },
    {
      "cell_type": "markdown",
      "source": [
        "*From* Classification Report, we can say that f1 score for 1s has increased but the accuracy of the model is 69% which is good for a prediction model."
      ],
      "metadata": {
        "id": "3ovm3KhRk0Ov"
      }
    },
    {
      "cell_type": "code",
      "source": [
        "from sklearn.calibration import CalibratedClassifierCV\n",
        "model_isotonic = CalibratedClassifierCV(lg_model1, cv=3, method='isotonic')\n",
        "model_isotonic.fit(X_train_sm,y_train_sm)"
      ],
      "metadata": {
        "execution": {
          "iopub.status.busy": "2023-02-11T12:55:39.757028Z",
          "iopub.execute_input": "2023-02-11T12:55:39.757364Z",
          "iopub.status.idle": "2023-02-11T12:56:13.142239Z",
          "shell.execute_reply.started": "2023-02-11T12:55:39.757336Z",
          "shell.execute_reply": "2023-02-11T12:56:13.141221Z"
        },
        "trusted": true,
        "id": "tPrHoeF-k0Ow",
        "outputId": "cedd92aa-111d-4932-e9eb-d86ee96d5a86"
      },
      "execution_count": null,
      "outputs": [
        {
          "execution_count": 139,
          "output_type": "execute_result",
          "data": {
            "text/plain": "CalibratedClassifierCV(base_estimator=LogisticRegression(random_state=42,\n                                                         solver='liblinear'),\n                       cv=3, method='isotonic')"
          },
          "metadata": {}
        }
      ]
    },
    {
      "cell_type": "code",
      "source": [
        "isotonic_predict_prob_test = model_isotonic.predict_proba(X_test_sm)"
      ],
      "metadata": {
        "execution": {
          "iopub.status.busy": "2023-02-11T12:57:03.871770Z",
          "iopub.execute_input": "2023-02-11T12:57:03.872375Z",
          "iopub.status.idle": "2023-02-11T12:57:04.798459Z",
          "shell.execute_reply.started": "2023-02-11T12:57:03.872343Z",
          "shell.execute_reply": "2023-02-11T12:57:04.797492Z"
        },
        "trusted": true,
        "id": "5FbgEad6k0Ow"
      },
      "execution_count": null,
      "outputs": []
    },
    {
      "cell_type": "code",
      "source": [
        "log_loss(y_test_sm,isotonic_predict_prob_test)"
      ],
      "metadata": {
        "execution": {
          "iopub.status.busy": "2023-02-11T12:57:39.766227Z",
          "iopub.execute_input": "2023-02-11T12:57:39.766584Z",
          "iopub.status.idle": "2023-02-11T12:57:40.440042Z",
          "shell.execute_reply.started": "2023-02-11T12:57:39.766553Z",
          "shell.execute_reply": "2023-02-11T12:57:40.439053Z"
        },
        "trusted": true,
        "id": "2Lk06-kIk0Ox",
        "outputId": "826a3141-e0a6-454f-bdf8-de728322601c"
      },
      "execution_count": null,
      "outputs": [
        {
          "execution_count": 141,
          "output_type": "execute_result",
          "data": {
            "text/plain": "0.4601604892579215"
          },
          "metadata": {}
        }
      ]
    },
    {
      "cell_type": "markdown",
      "source": [
        "As we can see that the log loss value for the model is .46 and which is average value for binary log loss as we expect low value of log loss for good prediction model.\n",
        "\n",
        "So we can conclude that out model after applying SMOTE on the data is providing better accuracy in prediction as from confusion matrix in the above we can see that we have better f1 score than the first matrix before applying SMOTE but still as a prediction model we prefer better accuracy than what we are getting from our model. For that we need better balanced data to create a better model."
      ],
      "metadata": {
        "id": "GEtExqWWk0Ox"
      }
    }
  ]
}